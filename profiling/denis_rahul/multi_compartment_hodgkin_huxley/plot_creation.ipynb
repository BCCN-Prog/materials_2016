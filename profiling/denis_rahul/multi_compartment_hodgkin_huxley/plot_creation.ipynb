{
 "cells": [
  {
   "cell_type": "markdown",
   "metadata": {},
   "source": [
    "# Problem 1: Numerical solution of the steady-state cable equation"
   ]
  },
  {
   "cell_type": "markdown",
   "metadata": {},
   "source": [
    "We are supposed to solve the steady cable equation with an injected current at the centre of the cable. In order to get close to the case of an infinite cable we use the sealed end condition. That is in our case V'(-5) = V'(5) = 0."
   ]
  },
  {
   "cell_type": "code",
   "execution_count": null,
   "metadata": {
    "collapsed": false
   },
   "outputs": [],
   "source": [
    "import numpy as np\n",
    "import matplotlib.patches as mpatches\n",
    "import matplotlib.pyplot as plt\n",
    "from scipy import integrate, arange\n",
    "\n",
    "# Plots will be done in the notebook:\n",
    "%matplotlib inline"
   ]
  },
  {
   "cell_type": "markdown",
   "metadata": {},
   "source": [
    "First we define the steady state cable equation. However we consider an injected current on an 0.2 mm interval around the point 0 instead of current that is precisely injected at 0. A smaller interval would lead to unwanted numerical effects, no matter how small we choose the spatial grid.\n",
    "\n",
    "Furthermore we calculate the electronic lenght constant $\\lambda$ and B := V(0) from our analytical solution to be able to compare it with the numerical solution later."
   ]
  },
  {
   "cell_type": "code",
   "execution_count": null,
   "metadata": {
    "collapsed": false
   },
   "outputs": [],
   "source": [
    "I_e = 10 # nA\n",
    "r_m = 2 # Ohm m\n",
    "a = 2 # micro m\n",
    "r_L = 2 # Ohm m\n",
    "E_L = 0\n",
    "\n",
    "lamb = np.sqrt(a*r_m/(2*r_L)) # m\n",
    "B = I_e/2*r_m/(2*np.pi*a*lamb) # V\n",
    "\n",
    "def steady_cable(y,x):\n",
    "    \n",
    "    # notations\n",
    "    V = y[0]\n",
    "    dVdx = y[1]\n",
    "    \n",
    "    # output vector\n",
    "    dydx = np.zeros(2)\n",
    "    \n",
    "    # Here we determine the input current density\n",
    "    # on an interval of lengh 0.2 mm around the point 0 (shorter not possible).\n",
    "    # We use this current density to approximate the case\n",
    "    # of an current injection at the point 0.\n",
    "    if x >= -0.1 and x <= 0.1 : # mm\n",
    "        i_e = I_e/(2*np.pi*a*0.2)\n",
    "    else:\n",
    "        i_e = 0\n",
    "    \n",
    "    # ODEs\n",
    "    dydx[0] = dVdx\n",
    "    dydx[1] = 2*r_L/a*((V-E_L)/r_m-i_e) \n",
    "    \n",
    "    return dydx\n",
    "    "
   ]
  },
  {
   "cell_type": "markdown",
   "metadata": {},
   "source": [
    "Now we integrate. We consider a cable of 1 cm length. We choose the initial value V(-5) = 0.0107 which could be close to the correct one."
   ]
  },
  {
   "cell_type": "code",
   "execution_count": null,
   "metadata": {
    "collapsed": false
   },
   "outputs": [],
   "source": [
    "x = np.linspace(-5,5,10001)\n",
    "y_start = (0.0107, 0)\n",
    "y = integrate.odeint(steady_cable, y_start, x)\n",
    "V = y[:,0]\n",
    "\n",
    "# plot\n",
    "plt.figure()\n",
    "plt.title('Steady-state voltage along the cable')\n",
    "plt.ylabel('V [V]')\n",
    "plt.xlabel('x [mm]')\n",
    "plt.plot(x, V)"
   ]
  },
  {
   "cell_type": "markdown",
   "metadata": {},
   "source": [
    "As we can see the sealed end condition V'(-5) = V'(5) = 0 is only satisfied on the left side, where we set it as a part of the initial condition. Thus we try a slightly larger initial value V(-5) = 0.0108. "
   ]
  },
  {
   "cell_type": "code",
   "execution_count": null,
   "metadata": {
    "collapsed": false
   },
   "outputs": [],
   "source": [
    "y_start = (0.0108, 0)\n",
    "y = integrate.odeint(steady_cable, y_start, x)\n",
    "V = y[:,0]\n",
    "\n",
    "# plot\n",
    "plt.figure()\n",
    "plt.title('Steady-state voltage along the cable')\n",
    "plt.ylabel('V [V]')\n",
    "plt.xlabel('x [mm]')\n",
    "plt.plot(x, V)"
   ]
  },
  {
   "cell_type": "markdown",
   "metadata": {},
   "source": [
    "Again the sealed end condition is not satisfied. This time the initial value is to big. In order to find the correct initial value we use the shooting method. We try different intial values and increase resp. decrease them till we obtain a solution that satisfies our boundary conditions."
   ]
  },
  {
   "cell_type": "code",
   "execution_count": null,
   "metadata": {
    "collapsed": false
   },
   "outputs": [],
   "source": [
    "# Now we want to do the same with the shooting method\n",
    "\n",
    "# first initial value for the voltage at -2\n",
    "# for the slope we can always take 0, because of our sealed end condition\n",
    "V_start = 1\n",
    "\n",
    "# value in order to start the while loop\n",
    "slope_end = 1\n",
    "\n",
    "for n in range (1,21):\n",
    "    if slope_end > 0:\n",
    "        # If we start with a too large value for V_start\n",
    "        # then the slope of V will be larger than than 0 at x=5.\n",
    "        # So we must decrease the initial value till slope_end is smaller than 0.\n",
    "        while slope_end > 0:\n",
    "            # redifine initial value:\n",
    "            V_start = V_start*(1 - 2**(-n))\n",
    "            y = integrate.odeint(steady_cable, (V_start, 0), x)\n",
    "            slope_end = y[-1,1]\n",
    "    else:\n",
    "        # If we have a too small value for V_start\n",
    "        # then the slope of V will be smaller than than 0 at x=5.\n",
    "        # So we must increase V_start till slope_end is larger than 0.\n",
    "        while slope_end < 0:\n",
    "            # redifine initial value:\n",
    "            V_start = V_start*(1 + 2**(-n))\n",
    "            y = integrate.odeint(steady_cable, (V_start, 0), x)\n",
    "            slope_end = y[-1,1]            \n",
    "        # Since 2**(-n) becomes smaller and smaller, we get closer to the correct solution.\n",
    "V = y[:,0]\n",
    "print 'final initial condidtion:', V_start\n",
    "\n",
    "\n",
    "# matplotlib.rcParams.update({'font.size': 24})\n",
    "\n",
    "\n",
    "# plot\n",
    "fig = plt.figure(figsize=(15,10))\n",
    "plt.title('Steady-state voltage along the cable')\n",
    "plt.ylabel('V [V]')\n",
    "plt.xlabel('x [mm]')\n",
    "plt.plot(x, V)\n",
    "# fig.savefig('num_sol.png')"
   ]
  },
  {
   "cell_type": "markdown",
   "metadata": {},
   "source": [
    "This time the boundary conditions are satisfied. We compare this solution with our analytical result now. "
   ]
  },
  {
   "cell_type": "code",
   "execution_count": null,
   "metadata": {
    "collapsed": false,
    "scrolled": false
   },
   "outputs": [],
   "source": [
    "def analytic_solution_scalar(x):\n",
    "    return B*np.exp(-np.absolute(x)/lamb)\n",
    "analytic_solution = np.vectorize(analytic_solution_scalar)\n",
    "\n",
    "V_analytical = analytic_solution(x)\n",
    "\n",
    "fig = plt.figure(figsize=(15,10))\n",
    "plt.title('Steady-state voltage along the cable')\n",
    "plt.ylabel('V [V]')\n",
    "plt.xlabel('x [mm]')\n",
    "plt.plot(x, V, color=\"blue\", label=\"numerical solution\")\n",
    "plt.plot(x, V_analytical, color=\"red\", label=\"analytical solution\")\n",
    "plt.legend()\n",
    "#fig.savefig('comp.png')"
   ]
  },
  {
   "cell_type": "markdown",
   "metadata": {},
   "source": [
    "We observe that our numerical solution is a bit inaccurate around zero and near the ends of the cable. However this is not a big surprise. After all we simulated a 1 cm long cable with an current injected by an 0.2 mm thick electrode, but we calculated the analytical solution for an infinite cable and a current injected exactly at one point.\n",
    "\n",
    "In total our numerical solution is accurate enough."
   ]
  },
  {
   "cell_type": "markdown",
   "metadata": {
    "collapsed": false
   },
   "source": [
    "# Problems 2-6: Multi-Compartment neuron"
   ]
  },
  {
   "cell_type": "code",
   "execution_count": null,
   "metadata": {
    "collapsed": false
   },
   "outputs": [],
   "source": [
    "%load_ext autoreload\n",
    "%autoreload 2\n",
    "import matplotlib.pyplot as plt\n",
    "%matplotlib inline\n",
    "plt.rcParams.update({'font.size': 22})\n",
    "from multicompartment import MultiCompartmentHodgkinHuxley\n",
    "import numpy as np\n",
    "np.seterr(all='warn')"
   ]
  },
  {
   "cell_type": "code",
   "execution_count": null,
   "metadata": {
    "collapsed": false
   },
   "outputs": [],
   "source": [
    "# exercise 3\n",
    "# fig 6.17 \n",
    "m = MultiCompartmentHodgkinHuxley(N=201, Ie=[2e-6], mu_inj=[0], L=3e-2)\n",
    "m.solve(t=0.2, dt=0.00005)"
   ]
  },
  {
   "cell_type": "code",
   "execution_count": null,
   "metadata": {
    "collapsed": false
   },
   "outputs": [],
   "source": [
    "mu = [50,150]\n",
    "mu_length = m.L/m.N * 1000. # in mm\n",
    "fig,ax = plt.subplots(3,1,figsize=(30,20))\n",
    "for i,ti in enumerate([600]):#np.arange(0,2000,100)):#[0, 1, 50, 100, 300, 500, 800, 999]):\n",
    "    ax[0].plot(np.arange(m.N)*mu_length, m.v[:,ti]*1000., label='$t = {}$ ms'.format(m.dt*ti*1000.), linewidth=2)\n",
    "ax[0].legend()\n",
    "ax[0].set_xlabel('$x$ [mm]')\n",
    "ax[0].set_ylabel('$V$ [mV]')\n",
    "ax[0].vlines(mu[0]*mu_length, -80., m.v[mu[0],600]*1000., color='r', linewidth=2)\n",
    "ax[0].vlines(mu[1]*mu_length, -80., m.v[mu[1],600]*1000., color='g', linewidth=2)\n",
    "# mu=[50,199]\n",
    "ax[1].plot(m.t*1000, m.v[mu[0],:]*1000., c='r', label='$\\mu = {}$ at $x = {:.2f}$ mm'.format(mu[0],mu[0]*mu_length), linewidth=2)\n",
    "ax[2].plot(m.t*1000, m.v[mu[1],:]*1000., c='g', label='$\\mu = {}$ at $x = {:.2f}$ mm'.format(mu[1],mu[1]*mu_length), linewidth=2)\n",
    "ax[1].set_xlim(26,34)\n",
    "ax[2].set_xlim(26,34)\n",
    "ax[1].set_xlabel('$t$ [ms]')\n",
    "ax[2].set_xlabel('$t$ [ms]')\n",
    "ax[1].set_ylabel('$V$ [mV]')\n",
    "ax[2].set_ylabel('$V$ [mV]')\n",
    "ax[1].legend()\n",
    "ax[2].legend()\n",
    "# ax[1].vlines(30, -80, m.v[mu[0],600])\n",
    "plt.savefig('ex3.png')\n",
    "#4\n",
    "m.calculate_propagation_velocity(50,199)\n",
    "print 'velocity is', m.prop_velocity\n",
    "print m.v[mu[0],600]*1000\n",
    "print mu[0]*mu_length"
   ]
  },
  {
   "cell_type": "code",
   "execution_count": null,
   "metadata": {
    "collapsed": false
   },
   "outputs": [],
   "source": [
    "mu = [0]\n",
    "fig,ax = plt.subplots(1,1,figsize=(15,10))\n",
    "ax.plot(m.t*1000, m.v[mu[0],:]*1000., c='r', label='$\\mu = {}$ at $x = {:.2f}$ mm'.format(mu[0],mu[0]*mu_length), linewidth=2)\n",
    "# ax[1].set_xlim(26,34)\n",
    "# ax[2].set_xlim(26,34)\n",
    "ax.set_xlabel('$t$ [ms]')\n",
    "ax.set_ylabel('$V$ [mV]')\n",
    "ax.set_title('Constant current injection at $x = 0$')\n",
    "ax.legend()\n",
    "plt.savefig('ex3_1.png')"
   ]
  },
  {
   "cell_type": "code",
   "execution_count": null,
   "metadata": {
    "collapsed": false
   },
   "outputs": [],
   "source": [
    "# ex 4\n",
    "A = np.arange(11,90,5)*1e-6\n",
    "vel = np.zeros(A.size)\n",
    "anal_vel = np.zeros(A.size)\n",
    "for i,a in enumerate(A):\n",
    "    print ('calculating a =', a)\n",
    "    m = MultiCompartmentHodgkinHuxley(N=201, Ie=[(7+i)*1e-8], mu_inj=[0], L=3e-2, a=a)\n",
    "    m.solve(t=0.1, dt=0.0001)\n",
    "    m.calculate_propagation_velocity(50,150,test=1)\n",
    "    vel[i] = m.prop_velocity\n",
    "    anal_vel[i] = m.anal_vel"
   ]
  },
  {
   "cell_type": "code",
   "execution_count": null,
   "metadata": {
    "collapsed": true
   },
   "outputs": [],
   "source": [
    "plt.figure(figsize=(10,7))\n",
    "plt.plot(A*1e6, vel,label='$\\Delta x / \\Delta t$', linewidth=3)\n",
    "plt.plot(A*1e6, np.pi*anal_vel, label='$\\pi \\cdot \\lambda / \\\\tau _m$',color='r', linewidth=3)\n",
    "#plt.plot(A*1e6, vel/anal_vel)\n",
    "plt.legend(loc=4,prop={'size':28})\n",
    "plt.ylabel('velocity [m/s]')\n",
    "plt.xlabel('a [$\\mu$m]')\n",
    "plt.title('Action potential propagation velocity')"
   ]
  },
  {
   "cell_type": "code",
   "execution_count": null,
   "metadata": {
    "collapsed": true
   },
   "outputs": [],
   "source": [
    "plt.figure(figsize=(10,7))\n",
    "plt.plot(m.t*1e3, m.v[50,:]*1e3, label='comp. 50/200', linewidth=3)\n",
    "plt.plot(m.t*1e3, m.v[150,:]*1e3, label='comp. 150/200', linewidth=3)\n",
    "ax = plt.gca()\n",
    "ax.set_xlim(14,20)\n",
    "plt.ylabel('V [mV]')\n",
    "plt.xlabel('t [ms]')\n",
    "plt.legend(prop={'size':16})\n",
    "plt.title('')\n",
    "ax.vlines([15.57, 16.98],-80,40, color='k',linestyle=':', linewidth=2, alpha=0.5)\n",
    "ax.hlines(0, 15.57, 16.98, color='k',linewidth=3, alpha=0.5)\n",
    "ax.text(15.8, 1, '$\\Delta t$', fontsize=20)"
   ]
  },
  {
   "cell_type": "code",
   "execution_count": null,
   "metadata": {
    "collapsed": true
   },
   "outputs": [],
   "source": [
    "#ex 5\n",
    "m = MultiCompartmentHodgkinHuxley(N=201, Ie=[2e-6,2e-6], mu_inj=[0,200], L=10e-2)\n",
    "m.solve(t=2, dt=0.0001)"
   ]
  },
  {
   "cell_type": "code",
   "execution_count": null,
   "metadata": {
    "collapsed": true
   },
   "outputs": [],
   "source": [
    "fig, ax = plt.subplots(5,1,figsize=(25,15))\n",
    "num = m.t/m.dt\n",
    "mid = num/2\n",
    "# col=['#3300CC','#6600AA','#990099', '#AA0066','#CC0033']\n",
    "# style=['-', '--', ':', '-.','--']\n",
    "for i,ti in enumerate([20,40,60,80,90]):\n",
    "    ax[i].plot(np.arange(m.N)*m.L/m.N*1000, m.v[:,ti]*1e3, color='k',label='t = {} ms'.format(np.round(m.t[ti]*1e3,1)), linewidth=2)\n",
    "    ax[i].legend()\n",
    "    ax[i].set_ylabel('$V$ [mV]')\n",
    "#     ax[i].set_xlabel('t [ms]')\n",
    "    ax[i].set_ylim(-80,45)\n",
    "ax[-1].set_xlabel('$x$ [mm]')\n",
    "plt.setp([a.get_xticklabels() for a in ax[:-1]], visible=False)\n",
    "plt.savefig('ex5.png')"
   ]
  },
  {
   "cell_type": "markdown",
   "metadata": {},
   "source": [
    "### The following did not get any usefull results"
   ]
  },
  {
   "cell_type": "code",
   "execution_count": null,
   "metadata": {
    "collapsed": true
   },
   "outputs": [],
   "source": [
    "#6\n",
    "m = MultiCompartmentHodgkinHuxley(N=5000, Ie=[1e-3], mu_inj=[500], L=5e-3, myelinated=True)\n",
    "m.solve(t=0.01, dt=0.00001)"
   ]
  },
  {
   "cell_type": "code",
   "execution_count": null,
   "metadata": {
    "collapsed": true
   },
   "outputs": [],
   "source": [
    "fig,ax = plt.subplots(1,1,figsize=(30,10))\n",
    "for i,ti in enumerate([0,1,20,100,200,500,998]):\n",
    "    ax.plot(range(m.N), m.v[:,ti], label='$t$ = {} ms'.format(m.t[ti]*1e3))\n",
    "plt.legend()\n",
    "ax.set_xlabel('$\\mu$')\n",
    "ax.set_ylabel('V [V]')\n",
    "col = np.where(m.myelin_pos!=True)\n",
    "# ax.vlines(col,-0.07,0.07, colors='r', alpha=0.5)\n",
    "print col\n",
    "# ax.set_xlim(450,550)"
   ]
  },
  {
   "cell_type": "code",
   "execution_count": null,
   "metadata": {
    "collapsed": true
   },
   "outputs": [],
   "source": [
    "plt.plot(m.t, m.v[505,:])"
   ]
  }
 ],
 "metadata": {
  "kernelspec": {
   "display_name": "Python 2",
   "language": "python",
   "name": "python2"
  },
  "language_info": {
   "codemirror_mode": {
    "name": "ipython",
    "version": 2
   },
   "file_extension": ".py",
   "mimetype": "text/x-python",
   "name": "python",
   "nbconvert_exporter": "python",
   "pygments_lexer": "ipython2",
   "version": "2.7.6"
  }
 },
 "nbformat": 4,
 "nbformat_minor": 0
}
